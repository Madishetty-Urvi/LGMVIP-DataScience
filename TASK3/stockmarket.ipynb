{
  "nbformat": 4,
  "nbformat_minor": 0,
  "metadata": {
    "colab": {
      "provenance": []
    },
    "kernelspec": {
      "name": "python3",
      "display_name": "Python 3"
    },
    "language_info": {
      "name": "python"
    }
  },
  "cells": [
    {
      "cell_type": "code",
      "execution_count": 1,
      "metadata": {
        "id": "ryXsA3tirAEG"
      },
      "outputs": [],
      "source": [
        "import pandas as pd"
      ]
    },
    {
      "cell_type": "code",
      "source": [
        "import tensorflow as tf\n",
        "print(tf.__version__)"
      ],
      "metadata": {
        "colab": {
          "base_uri": "https://localhost:8080/"
        },
        "id": "Havw2NlxrDbO",
        "outputId": "f696ff5f-2663-4a01-8e67-0423cc2cebb0"
      },
      "execution_count": 2,
      "outputs": [
        {
          "output_type": "stream",
          "name": "stdout",
          "text": [
            "2.12.0\n"
          ]
        }
      ]
    },
    {
      "cell_type": "code",
      "source": [
        "import numpy as np"
      ],
      "metadata": {
        "id": "pSaoILLWrQBm"
      },
      "execution_count": 3,
      "outputs": []
    },
    {
      "cell_type": "code",
      "source": [
        "from sklearn.preprocessing import MinMaxScaler"
      ],
      "metadata": {
        "id": "llSkeSAHrTKB"
      },
      "execution_count": 4,
      "outputs": []
    },
    {
      "cell_type": "code",
      "source": [
        "from keras.models import Sequential\n",
        "from keras.layers import Dense,LSTM, Dropout"
      ],
      "metadata": {
        "id": "LM4tXLFHrbAa"
      },
      "execution_count": 6,
      "outputs": []
    },
    {
      "cell_type": "code",
      "source": [
        "df = pd.read_csv('/content/sample_data/stock dataset.csv')"
      ],
      "metadata": {
        "id": "LCPe9OINuk3X"
      },
      "execution_count": 8,
      "outputs": []
    },
    {
      "cell_type": "code",
      "source": [
        "dataset = df.values"
      ],
      "metadata": {
        "id": "sktSLjCFvlcO"
      },
      "execution_count": 9,
      "outputs": []
    },
    {
      "cell_type": "code",
      "source": [
        "training_data = dataset[:500, 1:2]"
      ],
      "metadata": {
        "id": "klQyVEUrvo0t"
      },
      "execution_count": 10,
      "outputs": []
    },
    {
      "cell_type": "code",
      "source": [
        "training_data"
      ],
      "metadata": {
        "colab": {
          "base_uri": "https://localhost:8080/"
        },
        "id": "0OosO1CEvx1m",
        "outputId": "e2d4871b-635f-4eb2-bf76-4eff51a6325c"
      },
      "execution_count": 11,
      "outputs": [
        {
          "output_type": "execute_result",
          "data": {
            "text/plain": [
              "array([[234.05],\n",
              "       [234.55],\n",
              "       [240.0],\n",
              "       [233.3],\n",
              "       [233.55],\n",
              "       [235.0],\n",
              "       [235.95],\n",
              "       [237.9],\n",
              "       [233.15],\n",
              "       [223.45],\n",
              "       [216.35],\n",
              "       [222.5],\n",
              "       [222.5],\n",
              "       [221.0],\n",
              "       [224.0],\n",
              "       [222.0],\n",
              "       [238.2],\n",
              "       [236.0],\n",
              "       [237.0],\n",
              "       [235.35],\n",
              "       [233.85],\n",
              "       [237.0],\n",
              "       [231.8],\n",
              "       [234.5],\n",
              "       [240.3],\n",
              "       [246.9],\n",
              "       [244.0],\n",
              "       [240.8],\n",
              "       [236.05],\n",
              "       [235.0],\n",
              "       [233.0],\n",
              "       [237.3],\n",
              "       [236.65],\n",
              "       [237.25],\n",
              "       [241.0],\n",
              "       [235.15],\n",
              "       [236.0],\n",
              "       [232.5],\n",
              "       [248.7],\n",
              "       [243.4],\n",
              "       [243.7],\n",
              "       [241.0],\n",
              "       [235.9],\n",
              "       [248.5],\n",
              "       [244.0],\n",
              "       [238.9],\n",
              "       [231.25],\n",
              "       [239.7],\n",
              "       [248.4],\n",
              "       [241.55],\n",
              "       [257.9],\n",
              "       [265.0],\n",
              "       [270.4],\n",
              "       [274.8],\n",
              "       [275.9],\n",
              "       [268.25],\n",
              "       [269.8],\n",
              "       [277.45],\n",
              "       [281.0],\n",
              "       [264.5],\n",
              "       [271.0],\n",
              "       [262.7],\n",
              "       [263.0],\n",
              "       [265.1],\n",
              "       [264.8],\n",
              "       [260.1],\n",
              "       [257.9],\n",
              "       [258.05],\n",
              "       [263.7],\n",
              "       [274.65],\n",
              "       [271.55],\n",
              "       [279.15],\n",
              "       [269.8],\n",
              "       [267.0],\n",
              "       [262.75],\n",
              "       [265.6],\n",
              "       [263.7],\n",
              "       [266.9],\n",
              "       [262.75],\n",
              "       [255.5],\n",
              "       [265.0],\n",
              "       [269.7],\n",
              "       [267.0],\n",
              "       [254.0],\n",
              "       [257.4],\n",
              "       [254.7],\n",
              "       [252.2],\n",
              "       [251.0],\n",
              "       [246.5],\n",
              "       [244.0],\n",
              "       [244.1],\n",
              "       [248.3],\n",
              "       [243.5],\n",
              "       [240.0],\n",
              "       [256.45],\n",
              "       [280.0],\n",
              "       [284.4],\n",
              "       [292.95],\n",
              "       [289.6],\n",
              "       [296.0],\n",
              "       [288.8],\n",
              "       [287.05],\n",
              "       [292.75],\n",
              "       [297.4],\n",
              "       [293.9],\n",
              "       [293.45],\n",
              "       [292.5],\n",
              "       [283.05],\n",
              "       [283.0],\n",
              "       [287.7],\n",
              "       [285.95],\n",
              "       [286.0],\n",
              "       [282.3],\n",
              "       [282.0],\n",
              "       [274.0],\n",
              "       [274.0],\n",
              "       [273.9],\n",
              "       [276.1],\n",
              "       [280.2],\n",
              "       [275.0],\n",
              "       [274.8],\n",
              "       [274.55],\n",
              "       [276.7],\n",
              "       [276.0],\n",
              "       [259.35],\n",
              "       [261.25],\n",
              "       [264.0],\n",
              "       [258.05],\n",
              "       [251.05],\n",
              "       [264.65],\n",
              "       [265.3],\n",
              "       [259.7],\n",
              "       [272.6],\n",
              "       [280.8],\n",
              "       [278.0],\n",
              "       [275.25],\n",
              "       [278.05],\n",
              "       [270.0],\n",
              "       [275.9],\n",
              "       [270.5],\n",
              "       [272.0],\n",
              "       [276.7],\n",
              "       [274.8],\n",
              "       [275.0],\n",
              "       [273.0],\n",
              "       [275.0],\n",
              "       [273.55],\n",
              "       [264.2],\n",
              "       [265.95],\n",
              "       [265.0],\n",
              "       [268.7],\n",
              "       [277.0],\n",
              "       [280.25],\n",
              "       [284.35],\n",
              "       [287.95],\n",
              "       [282.4],\n",
              "       [271.1],\n",
              "       [282.0],\n",
              "       [270.0],\n",
              "       [259.0],\n",
              "       [265.1],\n",
              "       [284.0],\n",
              "       [290.25],\n",
              "       [302.9],\n",
              "       [300.95],\n",
              "       [305.25],\n",
              "       [304.0],\n",
              "       [306.0],\n",
              "       [310.7],\n",
              "       [307.05],\n",
              "       [306.0],\n",
              "       [315.05],\n",
              "       [313.85],\n",
              "       [323.0],\n",
              "       [327.7],\n",
              "       [315.05],\n",
              "       [314.0],\n",
              "       [315.0],\n",
              "       [317.6],\n",
              "       [314.65],\n",
              "       [312.3],\n",
              "       [312.0],\n",
              "       [311.9],\n",
              "       [314.3],\n",
              "       [317.75],\n",
              "       [308.05],\n",
              "       [306.5],\n",
              "       [305.5],\n",
              "       [303.7],\n",
              "       [301.0],\n",
              "       [302.25],\n",
              "       [301.0],\n",
              "       [292.0],\n",
              "       [280.0],\n",
              "       [289.0],\n",
              "       [288.0],\n",
              "       [290.0],\n",
              "       [298.6],\n",
              "       [290.0],\n",
              "       [287.55],\n",
              "       [276.0],\n",
              "       [278.9],\n",
              "       [279.4],\n",
              "       [285.0],\n",
              "       [288.45],\n",
              "       [278.9],\n",
              "       [287.3],\n",
              "       [277.0],\n",
              "       [277.5],\n",
              "       [275.05],\n",
              "       [273.15],\n",
              "       [273.5],\n",
              "       [275.9],\n",
              "       [261.15],\n",
              "       [252.25],\n",
              "       [254.0],\n",
              "       [237.9],\n",
              "       [234.7],\n",
              "       [236.3],\n",
              "       [240.7],\n",
              "       [225.8],\n",
              "       [226.0],\n",
              "       [235.0],\n",
              "       [224.9],\n",
              "       [227.0],\n",
              "       [227.9],\n",
              "       [226.95],\n",
              "       [226.95],\n",
              "       [225.0],\n",
              "       [211.3],\n",
              "       [204.95],\n",
              "       [211.0],\n",
              "       [204.0],\n",
              "       [205.5],\n",
              "       [207.9],\n",
              "       [211.45],\n",
              "       [210.4],\n",
              "       [210.3],\n",
              "       [211.0],\n",
              "       [211.0],\n",
              "       [209.45],\n",
              "       [209.5],\n",
              "       [209.65],\n",
              "       [210.0],\n",
              "       [204.95],\n",
              "       [207.3],\n",
              "       [207.25],\n",
              "       [204.5],\n",
              "       [199.05],\n",
              "       [206.5],\n",
              "       [196.0],\n",
              "       [201.45],\n",
              "       [211.0],\n",
              "       [214.0],\n",
              "       [216.4],\n",
              "       [213.0],\n",
              "       [212.65],\n",
              "       [211.0],\n",
              "       [208.5],\n",
              "       [214.65],\n",
              "       [212.0],\n",
              "       [209.2],\n",
              "       [206.1],\n",
              "       [207.95],\n",
              "       [195.1],\n",
              "       [194.3],\n",
              "       [198.0],\n",
              "       [198.25],\n",
              "       [198.5],\n",
              "       [193.0],\n",
              "       [192.95],\n",
              "       [195.0],\n",
              "       [197.3],\n",
              "       [191.5],\n",
              "       [197.15],\n",
              "       [196.65],\n",
              "       [189.8],\n",
              "       [194.0],\n",
              "       [182.5],\n",
              "       [166.0],\n",
              "       [155.1],\n",
              "       [161.85],\n",
              "       [165.5],\n",
              "       [171.8],\n",
              "       [167.0],\n",
              "       [164.7],\n",
              "       [165.95],\n",
              "       [168.0],\n",
              "       [171.0],\n",
              "       [169.5],\n",
              "       [167.9],\n",
              "       [173.85],\n",
              "       [172.0],\n",
              "       [170.5],\n",
              "       [172.2],\n",
              "       [171.9],\n",
              "       [175.4],\n",
              "       [173.8],\n",
              "       [176.1],\n",
              "       [174.25],\n",
              "       [175.9],\n",
              "       [175.35],\n",
              "       [171.05],\n",
              "       [167.05],\n",
              "       [159.0],\n",
              "       [153.15],\n",
              "       [156.5],\n",
              "       [151.5],\n",
              "       [153.7],\n",
              "       [152.5],\n",
              "       [148.0],\n",
              "       [149.95],\n",
              "       [147.25],\n",
              "       [151.15],\n",
              "       [154.6],\n",
              "       [157.0],\n",
              "       [156.8],\n",
              "       [156.75],\n",
              "       [159.0],\n",
              "       [159.95],\n",
              "       [158.45],\n",
              "       [156.95],\n",
              "       [152.45],\n",
              "       [153.5],\n",
              "       [154.9],\n",
              "       [155.1],\n",
              "       [152.65],\n",
              "       [155.0],\n",
              "       [155.05],\n",
              "       [153.1],\n",
              "       [148.35],\n",
              "       [148.55],\n",
              "       [145.0],\n",
              "       [147.2],\n",
              "       [144.0],\n",
              "       [143.45],\n",
              "       [145.2],\n",
              "       [148.05],\n",
              "       [149.8],\n",
              "       [149.5],\n",
              "       [152.0],\n",
              "       [154.0],\n",
              "       [154.6],\n",
              "       [152.65],\n",
              "       [154.0],\n",
              "       [155.0],\n",
              "       [154.9],\n",
              "       [153.2],\n",
              "       [152.8],\n",
              "       [156.5],\n",
              "       [156.3],\n",
              "       [158.85],\n",
              "       [154.3],\n",
              "       [153.4],\n",
              "       [155.0],\n",
              "       [152.45],\n",
              "       [152.4],\n",
              "       [151.0],\n",
              "       [153.5],\n",
              "       [150.25],\n",
              "       [147.9],\n",
              "       [149.1],\n",
              "       [151.0],\n",
              "       [152.0],\n",
              "       [153.95],\n",
              "       [151.5],\n",
              "       [151.5],\n",
              "       [152.8],\n",
              "       [152.9],\n",
              "       [152.8],\n",
              "       [150.65],\n",
              "       [151.45],\n",
              "       [151.45],\n",
              "       [151.7],\n",
              "       [149.9],\n",
              "       [151.0],\n",
              "       [152.9],\n",
              "       [143.9],\n",
              "       [145.55],\n",
              "       [147.0],\n",
              "       [144.8],\n",
              "       [145.7],\n",
              "       [141.6],\n",
              "       [139.6],\n",
              "       [140.2],\n",
              "       [140.85],\n",
              "       [140.6],\n",
              "       [142.4],\n",
              "       [143.0],\n",
              "       [143.95],\n",
              "       [141.1],\n",
              "       [145.45],\n",
              "       [138.5],\n",
              "       [139.15],\n",
              "       [139.0],\n",
              "       [140.05],\n",
              "       [142.55],\n",
              "       [142.15],\n",
              "       [141.0],\n",
              "       [140.9],\n",
              "       [139.2],\n",
              "       [140.9],\n",
              "       [142.4],\n",
              "       [144.9],\n",
              "       [143.95],\n",
              "       [146.0],\n",
              "       [141.95],\n",
              "       [142.1],\n",
              "       [141.9],\n",
              "       [138.2],\n",
              "       [132.45],\n",
              "       [129.05],\n",
              "       [130.5],\n",
              "       [129.1],\n",
              "       [128.35],\n",
              "       [129.25],\n",
              "       [128.8],\n",
              "       [127.6],\n",
              "       [130.25],\n",
              "       [129.8],\n",
              "       [128.0],\n",
              "       [128.6],\n",
              "       [128.2],\n",
              "       [126.9],\n",
              "       [128.3],\n",
              "       [125.0],\n",
              "       [125.5],\n",
              "       [124.75],\n",
              "       [125.4],\n",
              "       [124.75],\n",
              "       [125.0],\n",
              "       [122.8],\n",
              "       [122.8],\n",
              "       [121.1],\n",
              "       [119.6],\n",
              "       [119.2],\n",
              "       [117.0],\n",
              "       [118.8],\n",
              "       [119.5],\n",
              "       [122.4],\n",
              "       [120.75],\n",
              "       [124.8],\n",
              "       [124.8],\n",
              "       [125.0],\n",
              "       [122.5],\n",
              "       [123.85],\n",
              "       [124.05],\n",
              "       [123.9],\n",
              "       [124.35],\n",
              "       [123.0],\n",
              "       [124.35],\n",
              "       [123.8],\n",
              "       [121.45],\n",
              "       [121.5],\n",
              "       [124.65],\n",
              "       [122.95],\n",
              "       [122.8],\n",
              "       [118.55],\n",
              "       [116.0],\n",
              "       [117.65],\n",
              "       [118.8],\n",
              "       [117.8],\n",
              "       [120.1],\n",
              "       [118.9],\n",
              "       [121.7],\n",
              "       [123.1],\n",
              "       [119.8],\n",
              "       [123.0],\n",
              "       [124.0],\n",
              "       [118.0],\n",
              "       [130.0],\n",
              "       [127.7],\n",
              "       [131.0],\n",
              "       [134.1],\n",
              "       [138.0],\n",
              "       [139.4],\n",
              "       [140.65],\n",
              "       [138.0],\n",
              "       [139.5],\n",
              "       [148.0],\n",
              "       [149.05],\n",
              "       [152.9],\n",
              "       [152.45],\n",
              "       [155.95],\n",
              "       [152.0],\n",
              "       [150.95],\n",
              "       [153.0],\n",
              "       [149.0],\n",
              "       [151.45],\n",
              "       [151.9],\n",
              "       [152.3],\n",
              "       [153.95],\n",
              "       [141.95],\n",
              "       [142.5],\n",
              "       [140.95],\n",
              "       [136.95],\n",
              "       [147.9],\n",
              "       [148.1],\n",
              "       [140.9],\n",
              "       [143.45]], dtype=object)"
            ]
          },
          "metadata": {},
          "execution_count": 11
        }
      ]
    },
    {
      "cell_type": "code",
      "source": [
        "testing_data = dataset[500:, 1:2]"
      ],
      "metadata": {
        "id": "wjqKi0tpvz5T"
      },
      "execution_count": 12,
      "outputs": []
    },
    {
      "cell_type": "code",
      "source": [
        "testing_data"
      ],
      "metadata": {
        "colab": {
          "base_uri": "https://localhost:8080/"
        },
        "id": "eSQelc4UwJLr",
        "outputId": "55f86d4c-4730-499c-b681-07fdcc6f9d96"
      },
      "execution_count": 13,
      "outputs": [
        {
          "output_type": "execute_result",
          "data": {
            "text/plain": [
              "array([[138.9],\n",
              "       [139.15],\n",
              "       [138.0],\n",
              "       ...,\n",
              "       [121.8],\n",
              "       [120.3],\n",
              "       [122.1]], dtype=object)"
            ]
          },
          "metadata": {},
          "execution_count": 13
        }
      ]
    },
    {
      "cell_type": "code",
      "source": [
        "scaler = MinMaxScaler(feature_range=(0,1))\n",
        "training_data_scaled = scaler.fit_transform(training_data)"
      ],
      "metadata": {
        "id": "6KAWXlB0wLIx"
      },
      "execution_count": 14,
      "outputs": []
    },
    {
      "cell_type": "code",
      "source": [
        "x_train = []\n",
        "y_train = []\n",
        "for i in range(60, len(training_data)):\n",
        "    x_train.append(training_data_scaled[i-60:i, 0])\n",
        "    y_train.append(training_data_scaled[i, 0])\n",
        "x_train,y_train = np.array(x_train), np.array(y_train)\n",
        "x_train = np.reshape(x_train,(x_train.shape[0],x_train.shape[1],1))"
      ],
      "metadata": {
        "id": "sdAel0gXwnbe"
      },
      "execution_count": 32,
      "outputs": []
    },
    {
      "cell_type": "code",
      "source": [
        "x_test = []\n",
        "for i in range(60, len(testing_data)):\n",
        "    x_test.append(testing_data[i-60:i, 0])\n",
        "x_test = np.array(x_test)\n",
        "x_test = np.reshape(x_test, (x_test.shape[0], x_test.shape[1], 1))"
      ],
      "metadata": {
        "id": "GRCPIZ04x3a8"
      },
      "execution_count": 33,
      "outputs": []
    },
    {
      "cell_type": "code",
      "source": [
        "model = Sequential()"
      ],
      "metadata": {
        "id": "5olgkPOnz7cr"
      },
      "execution_count": 34,
      "outputs": []
    },
    {
      "cell_type": "code",
      "source": [
        "model.add(LSTM(units=50, return_sequences=True, input_shape=(x_train.shape[1], 1)))\n",
        "model.add(Dropout(0.2))\n",
        "model.add(LSTM(units=50, return_sequences=True))\n",
        "model.add(Dropout(0.2))\n",
        "model.add(LSTM(units=50))\n",
        "model.add(Dropout(0.2))\n",
        "model.add(Dense(units=1))"
      ],
      "metadata": {
        "id": "JJenrJw8z-68"
      },
      "execution_count": 35,
      "outputs": []
    },
    {
      "cell_type": "code",
      "source": [
        "model.compile(optimizer='adam', loss='mean_sqaured_error')"
      ],
      "metadata": {
        "id": "PF-pmVeO00xY"
      },
      "execution_count": 36,
      "outputs": []
    },
    {
      "cell_type": "code",
      "source": [
        "predicted_stock_price = model.predict(x_train)\n",
        "predicted_stock_price = scaler.inverse_transform(predicted_stock_price)"
      ],
      "metadata": {
        "colab": {
          "base_uri": "https://localhost:8080/"
        },
        "id": "_JtVrHxQ5hyj",
        "outputId": "d15d1673-e7cb-4d21-9ab9-d7112fcafe56"
      },
      "execution_count": 52,
      "outputs": [
        {
          "output_type": "stream",
          "name": "stdout",
          "text": [
            "14/14 [==============================] - 2s 27ms/step\n"
          ]
        }
      ]
    },
    {
      "cell_type": "code",
      "source": [
        "import matplotlib.pyplot as plt\n",
        "plt.plot(testing_data, color='blue', label='Actual Stock Price')\n",
        "plt.plot(predicted_stock_price, color='red', label='Predicted Stock Price')\n",
        "plt.title('Stock Prize Prediction')\n",
        "plt.xlabel('time')\n",
        "plt.ylabel('Stock Prize')\n",
        "plt.legend()\n",
        "plt.show()"
      ],
      "metadata": {
        "colab": {
          "base_uri": "https://localhost:8080/",
          "height": 472
        },
        "id": "INVQJlUo6TPV",
        "outputId": "66932d2b-624e-4275-db74-bc09892b2301"
      },
      "execution_count": 53,
      "outputs": [
        {
          "output_type": "display_data",
          "data": {
            "text/plain": [
              "<Figure size 640x480 with 1 Axes>"
            ],
            "image/png": "[encoded data removed]"
          },
          "metadata": {}
        }
      ]
    },
    {
      "cell_type": "code",
      "source": [],
      "metadata": {
        "id": "04QjMMmN7JGV"
      },
      "execution_count": null,
      "outputs": []
    }
  ]
}